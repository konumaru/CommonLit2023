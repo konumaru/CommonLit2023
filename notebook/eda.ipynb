{
 "cells": [
  {
   "cell_type": "code",
   "execution_count": 11,
   "metadata": {},
   "outputs": [],
   "source": [
    "import numpy as np\n",
    "import pandas as pd"
   ]
  },
  {
   "cell_type": "code",
   "execution_count": 12,
   "metadata": {},
   "outputs": [
    {
     "name": "stdout",
     "output_type": "stream",
     "text": [
      "total 3.4M\n",
      "-rw-r--r-- 1 root root  159 Jul 12 11:43 prompts_test.csv\n",
      "-rw-r--r-- 1 root root  16K Jul 12 11:43 prompts_train.csv\n",
      "-rw-r--r-- 1 root root  111 Jul 12 11:43 sample_submission.csv\n",
      "-rw-r--r-- 1 root root  166 Jul 12 11:43 summaries_test.csv\n",
      "-rw-r--r-- 1 root root 3.3M Jul 12 11:43 summaries_train.csv\n"
     ]
    }
   ],
   "source": [
    "%%bash\n",
    "ls -lh ../data/raw"
   ]
  },
  {
   "cell_type": "code",
   "execution_count": 15,
   "metadata": {},
   "outputs": [],
   "source": [
    "prompts_train = pd.read_csv('../data/raw/prompts_train.csv')\n",
    "prompts_test = pd.read_csv('../data/raw/prompts_test.csv')\n",
    "sample_submission = pd.read_csv('../data/raw/sample_submission.csv')\n",
    "summaries_train = pd.read_csv('../data/raw/summaries_train.csv')\n",
    "summaries_test = pd.read_csv('../data/raw/summaries_test.csv')"
   ]
  },
  {
   "cell_type": "code",
   "execution_count": null,
   "metadata": {},
   "outputs": [],
   "source": []
  },
  {
   "cell_type": "code",
   "execution_count": null,
   "metadata": {},
   "outputs": [],
   "source": [
    "a = np.arange(10)"
   ]
  },
  {
   "cell_type": "code",
   "execution_count": null,
   "metadata": {},
   "outputs": [],
   "source": [
    "a"
   ]
  },
  {
   "cell_type": "code",
   "execution_count": null,
   "metadata": {},
   "outputs": [],
   "source": []
  }
 ],
 "metadata": {
  "kernelspec": {
   "display_name": "base",
   "language": "python",
   "name": "python3"
  },
  "language_info": {
   "codemirror_mode": {
    "name": "ipython",
    "version": 3
   },
   "file_extension": ".py",
   "mimetype": "text/x-python",
   "name": "python",
   "nbconvert_exporter": "python",
   "pygments_lexer": "ipython3",
   "version": "3.10.12"
  },
  "orig_nbformat": 4
 },
 "nbformat": 4,
 "nbformat_minor": 2
}
